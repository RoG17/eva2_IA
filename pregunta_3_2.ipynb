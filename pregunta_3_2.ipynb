{
  "cells": [
    {
      "cell_type": "markdown",
      "metadata": {},
      "source": [
        "Importamos las bibliotecas necesarias y cargamos los datos"
      ]
    },
    {
      "cell_type": "code",
      "execution_count": 1,
      "metadata": {
        "id": "RJgVUQ9CDokA"
      },
      "outputs": [
        {
          "name": "stdout",
          "output_type": "stream",
          "text": [
            "Columnas en movies: Index(['movieId', 'title', 'genres'], dtype='object')\n",
            "Columnas en ratings: Index(['userId', 'movieId', 'rating', 'timestamp'], dtype='object')\n"
          ]
        }
      ],
      "source": [
        "import pandas as pd\n",
        "\n",
        "movies = pd.read_csv('movie.csv')\n",
        "ratings = pd.read_csv('rating.csv')\n",
        "\n",
        "# Verificar nombres de columnas\n",
        "print(\"Columnas en movies:\", movies.columns)\n",
        "print(\"Columnas en ratings:\", ratings.columns)"
      ]
    },
    {
      "cell_type": "markdown",
      "metadata": {},
      "source": [
        "a  ¿Cuál película recomendarían si se quiere ver una película de terror? "
      ]
    },
    {
      "cell_type": "code",
      "execution_count": 2,
      "metadata": {
        "id": "pRTq8mobESWc"
      },
      "outputs": [
        {
          "name": "stdout",
          "output_type": "stream",
          "text": [
            "Películas de Terror Recomendadas:\n",
            "       movieId                                              title\n",
            "16977    86023  Female Vampire (Les avaleuses) (Erotic Kill) (...\n",
            "18895    93991         Eye for an Eye, An (Silmä silmästä) (1999)\n",
            "21086   102882                                 Dream Demon (1988)\n",
            "21402   103912                                    Giorgino (1994)\n",
            "21730   105135                                    Pit, The (1981)\n",
            "24197   114698  Bakeneko: A Vengeful Spirit (Kaibyô nori no nu...\n",
            "25050   118258                  It's a Wonderful Afterlife (2010)\n",
            "25469   120486                                        Daar (1993)\n",
            "25547   120871  A Night at the Movies: The Horrors of Stephen ...\n",
            "25837   122441                  Tales That Witness Madness (1973)\n"
          ]
        }
      ],
      "source": [
        "\n",
        "try:\n",
        "    \n",
        "    if 'genres' in movies.columns:\n",
        "        horror_movies = movies[movies['genres'].str.contains('Horror', na=False)]\n",
        "    else:\n",
        "        raise ValueError(\"La columna 'genres' no se encuentra en el archivo 'movies.csv'.\")\n",
        "\n",
        "    \n",
        "    if 'movieId' in ratings.columns:\n",
        "        horror_ratings = ratings[ratings['movieId'].isin(horror_movies['movieId'])]\n",
        "    else:\n",
        "        raise ValueError(\"La columna 'movieId' no se encuentra en el archivo 'ratings.csv'.\")\n",
        "\n",
        "    \n",
        "    if 'rating' in ratings.columns:\n",
        "        top_horror_movies = horror_ratings.groupby('movieId')['rating'].mean().sort_values(ascending=False)\n",
        "        top_horror_recommendations = movies[movies['movieId'].isin(top_horror_movies.head(10).index)]\n",
        "        print(\"Películas de Terror Recomendadas:\")\n",
        "        print(top_horror_recommendations[['movieId', 'title']])\n",
        "    else:\n",
        "        raise ValueError(\"La columna 'rating' no se encuentra en el archivo 'ratings.csv'.\")\n",
        "\n",
        "except Exception as e:\n",
        "    print(f\"Error al recomendar películas de terror: {e}\")\n"
      ]
    },
    {
      "cell_type": "markdown",
      "metadata": {},
      "source": [
        "b  ¿Qué película recomendarían si mi última película fue Toy Story? "
      ]
    },
    {
      "cell_type": "code",
      "execution_count": 3,
      "metadata": {
        "id": "UzkHHKXXEYhC"
      },
      "outputs": [
        {
          "name": "stdout",
          "output_type": "stream",
          "text": [
            "Películas de Terror Recomendadas:\n",
            "       movieId                                              title\n",
            "16977    86023  Female Vampire (Les avaleuses) (Erotic Kill) (...\n",
            "18895    93991         Eye for an Eye, An (Silmä silmästä) (1999)\n",
            "21086   102882                                 Dream Demon (1988)\n",
            "21402   103912                                    Giorgino (1994)\n",
            "21730   105135                                    Pit, The (1981)\n",
            "24197   114698  Bakeneko: A Vengeful Spirit (Kaibyô nori no nu...\n",
            "25050   118258                  It's a Wonderful Afterlife (2010)\n",
            "25469   120486                                        Daar (1993)\n",
            "25547   120871  A Night at the Movies: The Horrors of Stephen ...\n",
            "25837   122441                  Tales That Witness Madness (1973)\n"
          ]
        }
      ],
      "source": [
        "\n",
        "try:\n",
        "    \n",
        "    if 'genres' in movies.columns:\n",
        "        horror_movies = movies[movies['genres'].str.contains('Horror', na=False)]\n",
        "    else:\n",
        "        raise ValueError(\"La columna 'genres' no se encuentra en el archivo 'movies.csv'.\")\n",
        "\n",
        "    \n",
        "    if 'movieId' in ratings.columns:\n",
        "        horror_ratings = ratings[ratings['movieId'].isin(horror_movies['movieId'])]\n",
        "    else:\n",
        "        raise ValueError(\"La columna 'movieId' no se encuentra en el archivo 'ratings.csv'.\")\n",
        "\n",
        "    \n",
        "    if 'rating' in ratings.columns:\n",
        "        top_horror_movies = horror_ratings.groupby('movieId')['rating'].mean().sort_values(ascending=False)\n",
        "        top_horror_recommendations = movies[movies['movieId'].isin(top_horror_movies.head(10).index)]\n",
        "        print(\"Películas de Terror Recomendadas:\")\n",
        "        print(top_horror_recommendations[['movieId', 'title']])\n",
        "    else:\n",
        "        raise ValueError(\"La columna 'rating' no se encuentra en el archivo 'ratings.csv'.\")\n",
        "\n",
        "except Exception as e:\n",
        "    print(f\"Error al recomendar películas de terror: {e}\")"
      ]
    },
    {
      "cell_type": "code",
      "execution_count": null,
      "metadata": {},
      "outputs": [],
      "source": []
    }
  ],
  "metadata": {
    "colab": {
      "provenance": []
    },
    "kernelspec": {
      "display_name": "Python 3",
      "name": "python3"
    },
    "language_info": {
      "codemirror_mode": {
        "name": "ipython",
        "version": 3
      },
      "file_extension": ".py",
      "mimetype": "text/x-python",
      "name": "python",
      "nbconvert_exporter": "python",
      "pygments_lexer": "ipython3",
      "version": "3.11.7"
    }
  },
  "nbformat": 4,
  "nbformat_minor": 0
}
